{
 "cells": [
  {
   "cell_type": "markdown",
   "metadata": {},
   "source": [
    "Evolução de casos de COVID-19 no Brasil\n",
    "====================\n",
    "\n",
    "Baseado nos dados oficiais divulgados pelo governo federal.\n",
    "\n",
    "TODO:\n",
    "\n",
    "- [ ] "
   ]
  },
  {
   "cell_type": "code",
   "execution_count": 1,
   "metadata": {},
   "outputs": [
    {
     "name": "stdout",
     "output_type": "stream",
     "text": [
      "Populating the interactive namespace from numpy and matplotlib\n"
     ]
    }
   ],
   "source": [
    "%pylab inline"
   ]
  },
  {
   "cell_type": "code",
   "execution_count": 2,
   "metadata": {},
   "outputs": [],
   "source": [
    "import scipy.optimize\n",
    "import pandas as pd\n",
    "import nmmn.misc, nmmn.stats\n",
    "import matplotlib.dates as mdates\n",
    "import tqdm"
   ]
  },
  {
   "cell_type": "markdown",
   "metadata": {},
   "source": [
    "# 1. Dados"
   ]
  },
  {
   "cell_type": "markdown",
   "metadata": {},
   "source": [
    "## Casos confirmados e suspeitos"
   ]
  },
  {
   "cell_type": "code",
   "execution_count": 3,
   "metadata": {},
   "outputs": [],
   "source": [
    "import astropy.io.ascii as ascii"
   ]
  },
  {
   "cell_type": "markdown",
   "metadata": {},
   "source": [
    "Mude a linha abaixo para a localização do arquivo de dados. Se você baixou o código do repositório no github, o argumento do comando deve ser \n",
    "\n",
    "    'corona-brasil.dat'"
   ]
  },
  {
   "cell_type": "code",
   "execution_count": 4,
   "metadata": {},
   "outputs": [],
   "source": [
    "data = ascii.read('/Users/nemmen/Dropbox/science/playground/data/corona-brasil.dat')"
   ]
  },
  {
   "cell_type": "code",
   "execution_count": 5,
   "metadata": {},
   "outputs": [
    {
     "data": {
      "text/html": [
       "<i>Table length=16</i>\n",
       "<table id=\"table112139984784\" class=\"table-striped table-bordered table-condensed\">\n",
       "<thead><tr><th>t</th><th>casos-confirmados</th><th>suspeitas</th><th>mortes</th></tr></thead>\n",
       "<thead><tr><th>str9</th><th>int64</th><th>float64</th><th>int64</th></tr></thead>\n",
       "<tr><td>2020-2-6</td><td>0</td><td>9.0</td><td>0</td></tr>\n",
       "<tr><td>2020-3-5</td><td>8</td><td>636.0</td><td>0</td></tr>\n",
       "<tr><td>2020-3-9</td><td>25</td><td>930.0</td><td>0</td></tr>\n",
       "<tr><td>2020-3-10</td><td>34</td><td>893.0</td><td>0</td></tr>\n",
       "<tr><td>2020-3-11</td><td>52</td><td>907.0</td><td>0</td></tr>\n",
       "<tr><td>2020-3-12</td><td>77</td><td>1427.0</td><td>0</td></tr>\n",
       "<tr><td>2020-3-13</td><td>98</td><td>1485.0</td><td>0</td></tr>\n",
       "<tr><td>2020-3-14</td><td>121</td><td>1494.0</td><td>0</td></tr>\n",
       "<tr><td>2020-3-15</td><td>200</td><td>1915.0</td><td>0</td></tr>\n",
       "<tr><td>2020-3-16</td><td>234</td><td>2064.0</td><td>0</td></tr>\n",
       "<tr><td>2020-3-17</td><td>291</td><td>8194.0</td><td>1</td></tr>\n",
       "<tr><td>2020-3-18</td><td>428</td><td>11278.0</td><td>4</td></tr>\n",
       "<tr><td>2020-3-19</td><td>621</td><td>nan</td><td>7</td></tr>\n",
       "<tr><td>2020-3-20</td><td>904</td><td>nan</td><td>11</td></tr>\n",
       "<tr><td>2020-3-21</td><td>1128</td><td>nan</td><td>18</td></tr>\n",
       "<tr><td>2020-3-22</td><td>1546</td><td>nan</td><td>25</td></tr>\n",
       "</table>"
      ],
      "text/plain": [
       "<Table length=16>\n",
       "    t     casos-confirmados suspeitas mortes\n",
       "   str9         int64        float64  int64 \n",
       "--------- ----------------- --------- ------\n",
       " 2020-2-6                 0       9.0      0\n",
       " 2020-3-5                 8     636.0      0\n",
       " 2020-3-9                25     930.0      0\n",
       "2020-3-10                34     893.0      0\n",
       "2020-3-11                52     907.0      0\n",
       "2020-3-12                77    1427.0      0\n",
       "2020-3-13                98    1485.0      0\n",
       "2020-3-14               121    1494.0      0\n",
       "2020-3-15               200    1915.0      0\n",
       "2020-3-16               234    2064.0      0\n",
       "2020-3-17               291    8194.0      1\n",
       "2020-3-18               428   11278.0      4\n",
       "2020-3-19               621       nan      7\n",
       "2020-3-20               904       nan     11\n",
       "2020-3-21              1128       nan     18\n",
       "2020-3-22              1546       nan     25"
      ]
     },
     "execution_count": 5,
     "metadata": {},
     "output_type": "execute_result"
    }
   ],
   "source": [
    "data"
   ]
  },
  {
   "cell_type": "code",
   "execution_count": 6,
   "metadata": {},
   "outputs": [],
   "source": [
    "t=data['t']\n",
    "n=data['casos-confirmados']\n",
    "nerr=data['suspeitas']\n",
    "mortes=data['mortes']"
   ]
  },
  {
   "cell_type": "markdown",
   "metadata": {},
   "source": [
    "Converte tempo para formato pandas"
   ]
  },
  {
   "cell_type": "code",
   "execution_count": 7,
   "metadata": {},
   "outputs": [],
   "source": [
    "tp=pd.to_datetime(t)"
   ]
  },
  {
   "cell_type": "code",
   "execution_count": 8,
   "metadata": {},
   "outputs": [],
   "source": [
    "df = pd.DataFrame(data={'n':n,'susp':nerr, 'mortes':mortes}, index=tp)"
   ]
  },
  {
   "cell_type": "markdown",
   "metadata": {},
   "source": [
    "## Inspeção dos dados"
   ]
  },
  {
   "cell_type": "code",
   "execution_count": 9,
   "metadata": {},
   "outputs": [
    {
     "data": {
      "image/png": "[encoded data removed]",
      "text/plain": [
       "<Figure size 432x288 with 1 Axes>"
      ]
     },
     "metadata": {
      "needs_background": "light"
     },
     "output_type": "display_data"
    }
   ],
   "source": [
    "ax=df['n'].plot(linewidth=3,style='o-',ms=10, label='Confirmados')\n",
    "df['susp'].plot(linewidth=3,style='o-',ms=10, label='Suspeitos')\n",
    "df['mortes'].plot(linewidth=3,style='o-r',ms=10, label='Mortes')\n",
    "ax.axvline(pd.to_datetime('today'), color='k', linestyle='--', lw=2, label='Hoje')\n",
    "\n",
    "ylabel('$N$',size=15)\n",
    "xlabel('Tempo', size=15)\n",
    "ax.xaxis.set_major_formatter(mdates.DateFormatter('%b %d'))\n",
    "legend(fontsize=13)\n",
    "yscale('log')\n",
    "title('Evolução do COVID-19 no Brasil', fontsize=15)\n",
    "ax.set_xlim(pd.Timestamp('2020-03-01'), pd.Timestamp('2020-03-23'))\n",
    "tick_params(axis='both', which='major', labelsize=13)\n",
    "tick_params(axis='both', which='minor', labelsize=12)"
   ]
  },
  {
   "cell_type": "code",
   "execution_count": 10,
   "metadata": {},
   "outputs": [
    {
     "data": {
      "image/png": "[encoded data removed]",
      "text/plain": [
       "<Figure size 432x288 with 1 Axes>"
      ]
     },
     "metadata": {
      "needs_background": "light"
     },
     "output_type": "display_data"
    }
   ],
   "source": [
    "ratio=df['mortes']/df['n']*100\n",
    "ax=ratio.plot(linewidth=3,style='o-',ms=10, label='Confirmados')\n",
    "\n",
    "ylabel('Fatalidade (%)',size=15)\n",
    "xlabel('Tempo', size=15)\n",
    "ax.xaxis.set_major_formatter(mdates.DateFormatter('%b %d'))\n",
    "legend(fontsize=13)\n",
    "title('Qual fração dos casos confirmados resulta em morte?', fontsize=15)\n",
    "tick_params(axis='both', which='major', labelsize=13)\n",
    "tick_params(axis='both', which='minor', labelsize=12)"
   ]
  },
  {
   "cell_type": "markdown",
   "metadata": {},
   "source": [
    "## Capacidade do sistema hospitalar\n",
    "\n",
    "Insira aqui os dados sobre a capacidade do sistema hospitalar.\n",
    "\n",
    "Fontes dos números abaixo:\n",
    "\n",
    "- https://www1.folha.uol.com.br/equilibrioesaude/2020/03/so-internacoes-em-utis-podem-custar-mais-de-r-1-bi-ao-sus-diz-estudo.shtml"
   ]
  },
  {
   "cell_type": "code",
   "execution_count": 11,
   "metadata": {},
   "outputs": [],
   "source": [
    "# quantidade de respiradores SUS no pais\n",
    "respSUS=5846\n",
    "\n",
    "# quantidade de respiradores total, incluindo sistema privado\n",
    "resp=64900"
   ]
  },
  {
   "cell_type": "markdown",
   "metadata": {},
   "source": [
    "# 2. Definição dos modelos"
   ]
  },
  {
   "cell_type": "markdown",
   "metadata": {},
   "source": [
    "quantos dias usar para ajustar a exponencial? i.e. dias antes do último dado publicado"
   ]
  },
  {
   "cell_type": "code",
   "execution_count": 12,
   "metadata": {},
   "outputs": [],
   "source": [
    "nlim=5"
   ]
  },
  {
   "cell_type": "markdown",
   "metadata": {},
   "source": [
    "## Capacidade do sistema hospitalar"
   ]
  },
  {
   "cell_type": "markdown",
   "metadata": {},
   "source": [
    "fracao de casualidades: qual porcentagem dos casos confirmados resulta em morte? [Dados da WHO](https://www.theguardian.com/world/2020/mar/22/what-is-coronavirus-and-what-is-the-mortality-rate)"
   ]
  },
  {
   "cell_type": "code",
   "execution_count": 13,
   "metadata": {},
   "outputs": [],
   "source": [
    "razaoMortes=0.034"
   ]
  },
  {
   "cell_type": "markdown",
   "metadata": {},
   "source": [
    "Fracao da população do Brasil em SP"
   ]
  },
  {
   "cell_type": "code",
   "execution_count": 14,
   "metadata": {},
   "outputs": [],
   "source": [
    "fracSP=0.22"
   ]
  },
  {
   "cell_type": "markdown",
   "metadata": {},
   "source": [
    "Estimativa de respiradores no sistema SUS no estado de São Paulo. Normalizado pela fração da população que mora no estado de SP"
   ]
  },
  {
   "cell_type": "code",
   "execution_count": 15,
   "metadata": {},
   "outputs": [],
   "source": [
    "respSP=fracSP*respSUS"
   ]
  },
  {
   "cell_type": "markdown",
   "metadata": {},
   "source": [
    "## Funções a serem ajustadas aos dados"
   ]
  },
  {
   "cell_type": "markdown",
   "metadata": {},
   "source": [
    "Exponencial em escala linear: $$N = a e^{t/b}$$ onde \n",
    "- $t$ é o tempo\n",
    "- $b$ é o tempo que os casos demoram para dobrar"
   ]
  },
  {
   "cell_type": "code",
   "execution_count": 16,
   "metadata": {},
   "outputs": [],
   "source": [
    "fexp=lambda x,a,b: a*exp(x/b)"
   ]
  },
  {
   "cell_type": "markdown",
   "metadata": {},
   "source": [
    "Exponencial em escala logarítmica: $$y=(a + t/b)/\\ln(10)$$ onde $y= \\log_{10} N$.\n",
    "\n",
    "Esta forma da função é mais apropriada para ajustes em escala log."
   ]
  },
  {
   "cell_type": "code",
   "execution_count": 17,
   "metadata": {},
   "outputs": [],
   "source": [
    "fexplog=lambda x,a,b: (a + x/b)/log(10.)"
   ]
  },
  {
   "cell_type": "markdown",
   "metadata": {},
   "source": [
    "# 3. Ajustes"
   ]
  },
  {
   "cell_type": "markdown",
   "metadata": {},
   "source": [
    "Conversão das datas formato `pandas` para um array normal, para fins de ajuste de modelos. Eu subtrai 2020 abaixo para não ter problemas com o ajuste dos modelos"
   ]
  },
  {
   "cell_type": "code",
   "execution_count": 18,
   "metadata": {},
   "outputs": [],
   "source": [
    "t=nmmn.misc.date2dec(df.index)\n",
    "tfit=t-2020"
   ]
  },
  {
   "cell_type": "markdown",
   "metadata": {},
   "source": [
    "Arrays maiores de tempos para graficar modelo"
   ]
  },
  {
   "cell_type": "code",
   "execution_count": 19,
   "metadata": {},
   "outputs": [],
   "source": [
    "t2=linspace(tfit[0],tfit[-1]+0.008)"
   ]
  },
  {
   "cell_type": "code",
   "execution_count": 20,
   "metadata": {},
   "outputs": [],
   "source": [
    "t3=linspace(tfit[0],tfit[-1]+0.08)"
   ]
  },
  {
   "cell_type": "markdown",
   "metadata": {},
   "source": [
    "## 3.1. Todos os dados\n",
    "\n",
    "Perceba nos gráficos abaixo que fazer um ajuste usando todos os dados não reproduz bem os últimos dados da série. i.e. os pontos estão um pouco acima da curva. O \"e-folding time\" da exponencial está mudando."
   ]
  },
  {
   "cell_type": "markdown",
   "metadata": {},
   "source": [
    "fix n=0 values, which will give errors when taking the log"
   ]
  },
  {
   "cell_type": "code",
   "execution_count": 21,
   "metadata": {},
   "outputs": [],
   "source": [
    "nfix=n.astype(float)\n",
    "nfix[n<1]=0.001"
   ]
  },
  {
   "cell_type": "code",
   "execution_count": 22,
   "metadata": {},
   "outputs": [],
   "source": [
    "p0=1.,0.1 # initial guess for the parameters"
   ]
  },
  {
   "cell_type": "markdown",
   "metadata": {},
   "source": [
    "Ajuste"
   ]
  },
  {
   "cell_type": "code",
   "execution_count": 23,
   "metadata": {},
   "outputs": [],
   "source": [
    "#fit,cov = scipy.optimize.curve_fit(fexp, xfit, n, p0=p0)\n",
    "fitAll,covAll = scipy.optimize.curve_fit(fexplog, tfit, log10(nfix), p0=p0)"
   ]
  },
  {
   "cell_type": "markdown",
   "metadata": {},
   "source": [
    "Tempo para dobrar o número de casos em dias"
   ]
  },
  {
   "cell_type": "code",
   "execution_count": 24,
   "metadata": {},
   "outputs": [
    {
     "data": {
      "text/plain": [
       "3.1490962080033844"
      ]
     },
     "execution_count": 24,
     "metadata": {},
     "output_type": "execute_result"
    }
   ],
   "source": [
    "fitAll[1]*365"
   ]
  },
  {
   "cell_type": "markdown",
   "metadata": {},
   "source": [
    "### Escala linear"
   ]
  },
  {
   "cell_type": "code",
   "execution_count": 25,
   "metadata": {
    "scrolled": false
   },
   "outputs": [
    {
     "data": {
      "text/plain": [
       "(737485.0, 737507.0)"
      ]
     },
     "execution_count": 25,
     "metadata": {},
     "output_type": "execute_result"
    },
    {
     "data": {
      "image/png": "[encoded data removed]",
      "text/plain": [
       "<Figure size 432x288 with 1 Axes>"
      ]
     },
     "metadata": {
      "needs_background": "light"
     },
     "output_type": "display_data"
    }
   ],
   "source": [
    "ax=pd.Series(10**fexplog(t2,fitAll[0],fitAll[1]),index=nmmn.misc.convertyear(t2+2020)).plot(label='Modelo exponencial', lw=4)\n",
    "#ax=pd.Series(fexp(x2,fit[0],fit[1]),index=nmmn.misc.convertyear(x2+2020)).plot(label='Modelo exponencial', lw=4)\n",
    "df['n'].plot(label='Dados (cumulativos)',linewidth=3,style='o',ms=10)\n",
    "ax.axvline(pd.to_datetime('today'), color='k', linestyle='--', lw=2, label='Hoje')\n",
    "\n",
    "xlabel('Tempo', fontsize=15)\n",
    "ylabel('$N$', fontsize=15)\n",
    "title('Casos confirmados de COVID-19 no Brasil', fontsize=15)\n",
    "\n",
    "legend(fontsize=13)\n",
    "tick_params(axis='both', which='major', labelsize=13)\n",
    "tick_params(axis='both', which='minor', labelsize=12)\n",
    "ax.xaxis.set_major_formatter(mdates.DateFormatter('%b %d'))\n",
    "ax.set_xlim(pd.Timestamp('2020-03-01'), pd.Timestamp('2020-03-23'))"
   ]
  },
  {
   "cell_type": "markdown",
   "metadata": {},
   "source": [
    "### Escala log"
   ]
  },
  {
   "cell_type": "code",
   "execution_count": 26,
   "metadata": {
    "scrolled": false
   },
   "outputs": [
    {
     "data": {
      "image/png": "[encoded data removed]",
      "text/plain": [
       "<Figure size 432x288 with 1 Axes>"
      ]
     },
     "metadata": {
      "needs_background": "light"
     },
     "output_type": "display_data"
    }
   ],
   "source": [
    "ax=pd.Series(10**fexplog(t3,fitAll[0],fitAll[1]),index=nmmn.misc.convertyear(t3+2020)).plot(label='Modelo exponencial', lw=4)\n",
    "#ax=pd.Series(fexp(t3,fit1[0],fit1[1]),index=nmmn.misc.convertyear(x2+2020)).plot(label='Modelo exponencial', lw=4)\n",
    "df['n'].plot(label='Dados (cumulativo)',linewidth=3,style='o',ms=10)\n",
    "\n",
    "# capacidade sistema hospitalar\n",
    "#pd.Series(respSP*ones_like(x2),index=nmmn.misc.convertyear(x2+2020)).plot(label='Capacidade respiradores SP', lw=4)\n",
    "\n",
    "xlabel('Tempo', fontsize=15)\n",
    "ylabel('$N$', fontsize=15)\n",
    "title('Casos confirmados de COVID-19 no Brasil', fontsize=15)\n",
    "ylim(1,100000)\n",
    "\n",
    "legend(fontsize=13)\n",
    "tick_params(axis='both', which='major', labelsize=13)\n",
    "tick_params(axis='both', which='minor', labelsize=12)\n",
    "ax.xaxis.set_major_formatter(mdates.DateFormatter('%b %d'))\n",
    "yscale('log')"
   ]
  },
  {
   "cell_type": "markdown",
   "metadata": {},
   "source": [
    "## 3.2. Somente últimos dias "
   ]
  },
  {
   "cell_type": "markdown",
   "metadata": {},
   "source": [
    "seleciona somente os últimos dias"
   ]
  },
  {
   "cell_type": "code",
   "execution_count": 27,
   "metadata": {},
   "outputs": [],
   "source": [
    "tlast=tfit[tfit.size-nlim:]\n",
    "nlast=n[n.size-nlim:]"
   ]
  },
  {
   "cell_type": "markdown",
   "metadata": {},
   "source": [
    "Ajuste"
   ]
  },
  {
   "cell_type": "code",
   "execution_count": 28,
   "metadata": {},
   "outputs": [],
   "source": [
    "fitLast,covLast = scipy.optimize.curve_fit(fexplog, tlast, log10(nlast), p0=p0)"
   ]
  },
  {
   "cell_type": "markdown",
   "metadata": {},
   "source": [
    "Tempo para dobrar o número de casos em dias"
   ]
  },
  {
   "cell_type": "code",
   "execution_count": 29,
   "metadata": {},
   "outputs": [
    {
     "data": {
      "text/plain": [
       "3.150450738934144"
      ]
     },
     "execution_count": 29,
     "metadata": {},
     "output_type": "execute_result"
    }
   ],
   "source": [
    "fitLast[1]*365"
   ]
  },
  {
   "cell_type": "markdown",
   "metadata": {},
   "source": [
    "### Escala linear"
   ]
  },
  {
   "cell_type": "code",
   "execution_count": 30,
   "metadata": {},
   "outputs": [],
   "source": [
    "t0='2020-03-17'\n",
    "t1='2020-03-25'"
   ]
  },
  {
   "cell_type": "code",
   "execution_count": 31,
   "metadata": {
    "scrolled": false
   },
   "outputs": [
    {
     "data": {
      "text/plain": [
       "(737501.0, 737509.0)"
      ]
     },
     "execution_count": 31,
     "metadata": {},
     "output_type": "execute_result"
    },
    {
     "data": {
      "image/png": "[encoded data removed]",
      "text/plain": [
       "<Figure size 432x288 with 1 Axes>"
      ]
     },
     "metadata": {
      "needs_background": "light"
     },
     "output_type": "display_data"
    }
   ],
   "source": [
    "ax=pd.Series(10**fexplog(t2,fitLast[0],fitLast[1]),index=nmmn.misc.convertyear(t2+2020)).plot(label='Modelo (últimos dias)', lw=4)\n",
    "pd.Series(10**fexplog(t2,fitAll[0],fitAll[1]),index=nmmn.misc.convertyear(t2+2020)).plot(label='Modelo (todo período)', lw=4)\n",
    "df['n'].plot(label='Dados (cumulativos)',linewidth=3,style='o',ms=10)\n",
    "ax.axvline(pd.to_datetime('today'), color='k', linestyle='--', lw=2, label='Hoje')\n",
    "\n",
    "xlabel('Tempo', fontsize=15)\n",
    "ylabel('$N$', fontsize=15)\n",
    "title('Casos confirmados de COVID-19 no Brasil', fontsize=15)\n",
    "\n",
    "legend(fontsize=13)\n",
    "tick_params(axis='both', which='major', labelsize=13)\n",
    "tick_params(axis='both', which='minor', labelsize=12)\n",
    "ax.xaxis.set_major_formatter(mdates.DateFormatter('%b %d'))\n",
    "ax.set_xlim(pd.Timestamp(t0), pd.Timestamp(t1))"
   ]
  },
  {
   "cell_type": "markdown",
   "metadata": {},
   "source": [
    "### Escala log"
   ]
  },
  {
   "cell_type": "code",
   "execution_count": 32,
   "metadata": {
    "scrolled": false
   },
   "outputs": [
    {
     "data": {
      "text/plain": [
       "(737501.0, 737509.0)"
      ]
     },
     "execution_count": 32,
     "metadata": {},
     "output_type": "execute_result"
    },
    {
     "data": {
      "image/png": "[encoded data removed]",
      "text/plain": [
       "<Figure size 432x288 with 1 Axes>"
      ]
     },
     "metadata": {
      "needs_background": "light"
     },
     "output_type": "display_data"
    }
   ],
   "source": [
    "ax=pd.Series(10**fexplog(t3,fitLast[0],fitLast[1]),index=nmmn.misc.convertyear(t3+2020)).plot(label='Modelo (últimos dias)', lw=4)\n",
    "pd.Series(10**fexplog(t2,fitAll[0],fitAll[1]),index=nmmn.misc.convertyear(t2+2020)).plot(label='Modelo (todo período)', lw=4)\n",
    "df['n'].plot(label='Dados (cumulativo)',linewidth=3,style='o',ms=10)\n",
    "\n",
    "xlabel('Tempo', fontsize=15)\n",
    "ylabel('$N$', fontsize=15)\n",
    "title('Casos confirmados de COVID-19 no Brasil', fontsize=15)\n",
    "ylim(100,10000)\n",
    "\n",
    "legend(fontsize=13)\n",
    "tick_params(axis='both', which='major', labelsize=13)\n",
    "tick_params(axis='both', which='minor', labelsize=12)\n",
    "ax.xaxis.set_major_formatter(mdates.DateFormatter('%b %d'))\n",
    "yscale('log')\n",
    "ax.set_xlim(pd.Timestamp(t0), pd.Timestamp(t1))"
   ]
  },
  {
   "cell_type": "markdown",
   "metadata": {},
   "source": [
    "# Projeções (futuro)\n",
    "\n",
    "Quantos casos críticos—que necessitarão de internação—acontecerão nos próximos dias?"
   ]
  },
  {
   "cell_type": "markdown",
   "metadata": {},
   "source": [
    "seleciona somente os últimos dias"
   ]
  },
  {
   "cell_type": "code",
   "execution_count": 37,
   "metadata": {},
   "outputs": [],
   "source": [
    "tDeathLast=tfit[n.size-nlim:]\n",
    "nDeathLast=mortes[n.size-nlim:]"
   ]
  },
  {
   "cell_type": "markdown",
   "metadata": {},
   "source": [
    "Ajuste"
   ]
  },
  {
   "cell_type": "code",
   "execution_count": 38,
   "metadata": {},
   "outputs": [],
   "source": [
    "fitDeath,covDeath = scipy.optimize.curve_fit(fexplog, tDeathLast, log10(nDeathLast), p0=p0)"
   ]
  },
  {
   "cell_type": "markdown",
   "metadata": {},
   "source": [
    "Tempo para dobrar o número de mortes em dias"
   ]
  },
  {
   "cell_type": "code",
   "execution_count": 39,
   "metadata": {},
   "outputs": [
    {
     "data": {
      "text/plain": [
       "2.1634468332428582"
      ]
     },
     "execution_count": 39,
     "metadata": {},
     "output_type": "execute_result"
    }
   ],
   "source": [
    "fitDeath[1]*365"
   ]
  },
  {
   "cell_type": "markdown",
   "metadata": {},
   "source": [
    "Ambas as linhas tracejada e pontilhada consistem de extrapolações, que tentam prever o número de casos críticos, baseadas em exponenciais. Não há física nestes modelos—eles são puramente fenomenológicos. \n",
    "\n",
    "A linha vermelha tracejada assume que o número de casos críticos será semelhante ao número de mortes. A linha azul pontilhada assume que o número de casos críticos corresponde a 3.4% do número de casos suspeitos; ou seja, a mesma fração de mortes medida na China. \n",
    "\n",
    "As setas vermelhas indicam as datas nas quais se prevê saturação do sistema público de saúde (SUS) devido ao excesso de casos críticos de COVID-19. Se isto acontecer, os hospitais não terão mais capacidade de tratar todos os doentes e terão que escolher quem será tratado."
   ]
  },
  {
   "cell_type": "code",
   "execution_count": 54,
   "metadata": {
    "scrolled": true
   },
   "outputs": [
    {
     "data": {
      "text/plain": [
       "(737500.0, 737521.0)"
      ]
     },
     "execution_count": 54,
     "metadata": {},
     "output_type": "execute_result"
    },
    {
     "data": {
      "image/png": "[encoded data removed]",
      "text/plain": [
       "<Figure size 432x288 with 1 Axes>"
      ]
     },
     "metadata": {
      "needs_background": "light"
     },
     "output_type": "display_data"
    }
   ],
   "source": [
    "ax=pd.Series(10**fexplog(t3,fitDeath[0],fitDeath[1]),index=nmmn.misc.convertyear(t3+2020)).plot(label='Modelo A', lw=4, style='--', color='IndianRed')\n",
    "pd.Series(razaoMortes*10**fexplog(t3,fitLast[0],fitLast[1]),index=nmmn.misc.convertyear(t3+2020)).plot(label='Modelo B', lw=4, style=':')\n",
    "df['mortes'].plot(label='Mortes (dados, cumulativo)',linewidth=3,style='or',ms=10)\n",
    "\n",
    "# capacidade sistema hospitalar\n",
    "pd.Series(respSUS*ones_like(t3),index=nmmn.misc.convertyear(t3+2020)).plot(label='Numero respiradores SUS', lw=4)\n",
    "pd.Series(resp*ones_like(t3),index=nmmn.misc.convertyear(t3+2020)).plot(label='Numero respiradores total', lw=4)\n",
    "\n",
    "xarr=[pd.Timestamp('2020-04-3'),pd.Timestamp('2020-04-6')]\n",
    "for x in xarr:\n",
    "    annotate('', (x, 6), xytext=(0, 50), textcoords='offset points', arrowprops=dict(headwidth=50,width=30,headlength=30,color='red'))\n",
    "\n",
    "xlabel('Tempo', fontsize=15)\n",
    "ylabel('$N$', fontsize=15)\n",
    "title('Quando o sistema hospitalar vai saturar no Brasil?', fontsize=15)\n",
    "ylim(1,100000)\n",
    "\n",
    "legend(fontsize=11,loc='upper left')\n",
    "tick_params(axis='both', which='major', labelsize=13)\n",
    "tick_params(axis='both', which='minor', labelsize=12)\n",
    "ax.xaxis.set_major_formatter(mdates.DateFormatter('%b %d'))\n",
    "yscale('log')\n",
    "ax.set_xlim(pd.Timestamp('2020-03-16'), pd.Timestamp('2020-04-06'))"
   ]
  },
  {
   "cell_type": "markdown",
   "metadata": {},
   "source": [
    "## Conclusão\n",
    "\n",
    "De acordo com os modelos *data-driven* acima:\n",
    "\n",
    "---\n",
    "**ATENÇÃO**\n",
    "\n",
    "há a possibilidade de o sistema SUS saturar sua capacidade de respiradores entre os dias 3 e 6 de Abril, devido ao grande número de casos críticos de COVID-19\n",
    "\n",
    "---\n",
    "\n",
    "Notas:\n",
    "\n",
    "- Os modelos puramente exponenciais ajustados aos dados foram extrapolados duas semanas no futuro, o que é uma extrapolação considerável. \n",
    "- Dado o grande número de variáveis envolvidas que afetam a propagação do COVID-19, *é bastante difícil saber como o número de casos críticos vai evoluir depois de dez dias*"
   ]
  },
  {
   "cell_type": "markdown",
   "metadata": {},
   "source": [
    "# Sandbox (playing around)"
   ]
  },
  {
   "cell_type": "code",
   "execution_count": null,
   "metadata": {},
   "outputs": [],
   "source": [
    "mortesSP=fracSP*df['mortes']"
   ]
  },
  {
   "cell_type": "code",
   "execution_count": null,
   "metadata": {},
   "outputs": [],
   "source": [
    "ax=pd.Series(razaoMortes*fracSP*10**fexplog(x2,fitLast[0],fitLast[1]),index=nmmn.misc.convertyear(x2+2020)).plot(label='Casos críticos (modelo)', lw=4)\n",
    "mortesSP.plot(label='Mortes (dados, cumulativo)',linewidth=3,style='o',ms=10)\n",
    "ax.axvline(pd.to_datetime('today'), color='k', linestyle='--', lw=2, label='Hoje')\n",
    "\n",
    "# capacidade sistema hospitalar\n",
    "pd.Series(respSP*ones_like(x2),index=nmmn.misc.convertyear(x2+2020)).plot(label='Numero respiradores SUS', lw=4, color='r')\n",
    "\n",
    "xlabel('Tempo', fontsize=15)\n",
    "ylabel('$N$', fontsize=15)\n",
    "title('Quando o sistema hospitalar vai saturar em SP?', fontsize=15)\n",
    "ylim(1,100000)\n",
    "\n",
    "legend(fontsize=13)\n",
    "tick_params(axis='both', which='major', labelsize=13)\n",
    "tick_params(axis='both', which='minor', labelsize=12)\n",
    "ax.xaxis.set_major_formatter(mdates.DateFormatter('%b %d'))\n",
    "yscale('log')"
   ]
  },
  {
   "cell_type": "markdown",
   "metadata": {},
   "source": [
    "## Monte Carlo\n",
    "\n",
    "- [ ] generate data below the upper limits\n",
    "- [ ] fits\n",
    "- [ ] plot confidence band of fits"
   ]
  },
  {
   "cell_type": "code",
   "execution_count": null,
   "metadata": {},
   "outputs": [],
   "source": [
    "# How many correlations will be tested?\n",
    "nsim=500"
   ]
  },
  {
   "cell_type": "code",
   "execution_count": null,
   "metadata": {},
   "outputs": [],
   "source": [
    "# Array which will store the resulting distribution of r-values\n",
    "ysim=np.zeros_like(xfit)"
   ]
  },
  {
   "cell_type": "code",
   "execution_count": null,
   "metadata": {},
   "outputs": [],
   "source": [
    "# fix n=0 values\n",
    "nreal=n.astype(float)\n",
    "nreal[n<1]=0.01"
   ]
  },
  {
   "cell_type": "code",
   "execution_count": null,
   "metadata": {},
   "outputs": [],
   "source": [
    "ax=pd.Series(fexp(x2,fit[0],fit[1]),index=nmmn.misc.convertyear(x2+2020)).plot(lw=4)\n",
    "df['n'].plot(label='Dados (cumulativos)',linewidth=3,style='o',ms=10)\n",
    "\n",
    "for i in tqdm.tqdm(range(nsim)):\n",
    "    # Generates mock values\n",
    "    for j in range(x.size):\n",
    "        ysim[j]=np.random.uniform(log10(nreal[j]),log10(nerr[j]))\n",
    "\n",
    "    # fits model  \n",
    "    #fit,cov = scipy.optimize.curve_fit(fexp, xfit, ysim, p0=p0)\n",
    "    fit2,cov = scipy.optimize.curve_fit(fexplog, xfit, ysim, p0=p0)\n",
    "\n",
    "    # plot\n",
    "    pd.Series(10**fexplog(x2,fit2[0],fit2[1]),index=nmmn.misc.convertyear(x2+2020)).plot(alpha=0.01, color='k')\n",
    "\n",
    "ax.axvline(pd.to_datetime('today'), color='k', linestyle='--', lw=2, label='Hoje')\n",
    "xlabel('Tempo', fontsize=15)\n",
    "ylabel('$N$', fontsize=15)\n",
    "title('Casos de COVID-19 no Brasil', fontsize=15)\n",
    "\n",
    "#legend(fontsize=13)\n",
    "tick_params(axis='both', which='major', labelsize=13)\n",
    "tick_params(axis='both', which='minor', labelsize=12)\n",
    "ax.xaxis.set_major_formatter(mdates.DateFormatter('%b %d'))\n",
    "yscale('log')\n",
    "ylim(1,5e4)\n",
    "ax.set_xlim(pd.Timestamp('2020-03-01'), pd.Timestamp('2020-03-25'))"
   ]
  },
  {
   "cell_type": "code",
   "execution_count": null,
   "metadata": {},
   "outputs": [],
   "source": [
    "ax=pd.Series(razaoMortes*fexp(x2,fit[0],fit[1]),index=nmmn.misc.convertyear(x2+2020)).plot(lw=4)\n",
    "df['mortes'].plot(label='Dados (cumulativos)',linewidth=3,style='o',ms=10)\n",
    "\n",
    "for i in tqdm.tqdm(range(nsim)):\n",
    "    # Generates mock values\n",
    "    for j in range(x.size):\n",
    "        ysim[j]=np.random.uniform(log10(nreal[j]),log10(nerr[j]))\n",
    "\n",
    "    # fits model  \n",
    "    #fit,cov = scipy.optimize.curve_fit(fexp, xfit, ysim, p0=p0)\n",
    "    fit2,cov = scipy.optimize.curve_fit(fexplog, xfit, ysim, p0=p0)\n",
    "\n",
    "    # plot\n",
    "    pd.Series(razaoMortes*10**fexplog(x2,fit2[0],fit2[1]),index=nmmn.misc.convertyear(x2+2020)).plot(alpha=0.01, color='k')\n",
    "\n",
    "ax.axvline(pd.to_datetime('today'), color='k', linestyle='--', lw=2, label='Hoje')\n",
    "xlabel('Tempo', fontsize=15)\n",
    "ylabel('$N$', fontsize=15)\n",
    "title('Mortes por COVID-19 no Brasil', fontsize=15)\n",
    "\n",
    "#legend(fontsize=13)\n",
    "tick_params(axis='both', which='major', labelsize=13)\n",
    "tick_params(axis='both', which='minor', labelsize=12)\n",
    "ax.xaxis.set_major_formatter(mdates.DateFormatter('%b %d'))\n",
    "yscale('log')\n",
    "ylim(1,5e4)\n",
    "ax.set_xlim(pd.Timestamp('2020-03-01'), pd.Timestamp('2020-03-25'))"
   ]
  },
  {
   "cell_type": "code",
   "execution_count": null,
   "metadata": {
    "scrolled": true
   },
   "outputs": [],
   "source": [
    "    # fix n=0 values\n",
    "    nreal=n.astype(float)\n",
    "    nreal[n<1]=0.01\n",
    "\n",
    "    # Generates mock values\n",
    "    for j in range(x.size):\n",
    "        ysim[j]=np.random.uniform(log10(nreal[j]),log10(nerr[j]))\n",
    "\n",
    "    # fits model  \n",
    "    fit2,cov = scipy.optimize.curve_fit(fexplog, xfit, ysim, p0=p0)\n",
    "\n",
    "    # plot\n",
    "    pd.Series(fexplog(x2,fit2[0],fit2[1]),index=nmmn.misc.convertyear(x2+2020)).plot(lw=4)\n",
    "    pd.Series(ysim,index=nmmn.misc.convertyear(xfit+2020)).plot(style='o',ms=10)"
   ]
  },
  {
   "cell_type": "code",
   "execution_count": null,
   "metadata": {},
   "outputs": [],
   "source": []
  }
 ],
 "metadata": {
  "kernelspec": {
   "display_name": "Python 3",
   "language": "python",
   "name": "python3"
  },
  "language_info": {
   "codemirror_mode": {
    "name": "ipython",
    "version": 3
   },
   "file_extension": ".py",
   "mimetype": "text/x-python",
   "name": "python",
   "nbconvert_exporter": "python",
   "pygments_lexer": "ipython3",
   "version": "3.7.4"
  }
 },
 "nbformat": 4,
 "nbformat_minor": 2
}
